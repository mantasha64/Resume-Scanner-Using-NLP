{
  "nbformat": 4,
  "nbformat_minor": 0,
  "metadata": {
    "colab": {
      "provenance": []
    },
    "kernelspec": {
      "name": "python3",
      "display_name": "Python 3"
    },
    "language_info": {
      "name": "python"
    }
  },
  "cells": [
    {
      "cell_type": "code",
      "execution_count": 15,
      "metadata": {
        "colab": {
          "base_uri": "https://localhost:8080/"
        },
        "id": "1kNwztcNAuix",
        "outputId": "548cd06d-eb8f-4889-a6f5-fe6b7a4141aa"
      },
      "outputs": [
        {
          "output_type": "stream",
          "name": "stdout",
          "text": [
            "Requirement already satisfied: docx2txt in /usr/local/lib/python3.10/dist-packages (0.8)\n"
          ]
        }
      ],
      "source": [
        "!pip install docx2txt"
      ]
    },
    {
      "cell_type": "code",
      "source": [
        "import docx2txt"
      ],
      "metadata": {
        "id": "j96FerCqBEPh"
      },
      "execution_count": 16,
      "outputs": []
    },
    {
      "cell_type": "code",
      "source": [
        "job_des= docx2txt.process('/content/Job description.docx')\n",
        "resume= docx2txt.process('/content/resume1.docx')"
      ],
      "metadata": {
        "id": "t1bIt2tYBWyW"
      },
      "execution_count": 17,
      "outputs": []
    },
    {
      "cell_type": "code",
      "source": [
        "print(resume)"
      ],
      "metadata": {
        "colab": {
          "base_uri": "https://localhost:8080/"
        },
        "id": "5ZmclSdkCiwG",
        "outputId": "71debe83-6567-491b-cb21-e93bac22db4c"
      },
      "execution_count": 18,
      "outputs": [
        {
          "output_type": "stream",
          "name": "stdout",
          "text": [
            "RESUME\n",
            "\n",
            "\t                           name@gmail.com  9001902903    Mumbai, India\n",
            "\n",
            "PROFILE\n",
            "\n",
            "I am a reliable, trustworthy and flexible individual who can learn new skills easily and execute them swiftly.\n",
            "\n",
            "\n",
            "\n",
            "Possess excellent communication skills and have problem solving abilities.\n",
            "\n",
            "\n",
            "\n",
            "Had worked with business stakeholders.\n",
            "\n",
            "\n",
            "\n",
            "EDUCATION\n",
            "\n",
            "Masters in computer science\n",
            "\n",
            "B.E in Artificial Intelligence and Data Science, Rizvi College of Engineering\n",
            "\n",
            "Honours in Cyber Security\n",
            "\n",
            "HSC, Bharatiya Vidya Bhavan\n",
            "\n",
            "SSC, Fr. Agnelo High School\n",
            "\n",
            "SKILLS\n",
            "\n",
            "Python Programming\n",
            "\n",
            "Data Analysis\n",
            "\n",
            "C++ \n",
            "\n",
            "Machine Learning\n",
            "\n",
            "SQL\n",
            "\n",
            "Problem solving\n",
            "\n",
            "Power BI / Tableau\n",
            "\n",
            "Data Mining/ Data Modelling\n",
            "\n",
            "Excellent communication skills\n",
            "\n",
            "Signavio/Mavim/QPR Tools’\n",
            "\n",
            "Excellent Collaboration with team and clients\n",
            "\n",
            "Extract, transform and load data in mining software \n",
            "\n",
            "EXPERIENCE- 1 year experience in data analysis at Microsoft\n"
          ]
        }
      ]
    },
    {
      "cell_type": "code",
      "source": [
        "content= [job_des, resume]"
      ],
      "metadata": {
        "id": "AyvOVzeUEoDK"
      },
      "execution_count": 19,
      "outputs": []
    },
    {
      "cell_type": "code",
      "source": [
        "from sklearn.feature_extraction.text import CountVectorizer\n",
        "cv= CountVectorizer()\n",
        "matrix= cv.fit_transform(content)"
      ],
      "metadata": {
        "id": "8S-lXJcaFDLN"
      },
      "execution_count": 20,
      "outputs": []
    },
    {
      "cell_type": "code",
      "source": [
        "from sklearn.metrics.pairwise import cosine_similarity\n",
        "similarity_matrix= cosine_similarity(matrix)"
      ],
      "metadata": {
        "id": "LnvKNcjoFc9-"
      },
      "execution_count": 21,
      "outputs": []
    },
    {
      "cell_type": "code",
      "source": [
        "print(similarity_matrix)"
      ],
      "metadata": {
        "colab": {
          "base_uri": "https://localhost:8080/"
        },
        "id": "YrW4KgVhF6P4",
        "outputId": "064185db-e2ec-49d9-954f-b37df9cb3199"
      },
      "execution_count": 22,
      "outputs": [
        {
          "output_type": "stream",
          "name": "stdout",
          "text": [
            "[[1.         0.58698462]\n",
            " [0.58698462 1.        ]]\n"
          ]
        }
      ]
    },
    {
      "cell_type": "code",
      "source": [
        "print('Resume matches by: '+str(similarity_matrix[1][0]*100)+'%')"
      ],
      "metadata": {
        "colab": {
          "base_uri": "https://localhost:8080/"
        },
        "id": "omBBXM1pF_Cl",
        "outputId": "819c3556-a3a6-4c3d-8dc4-df87cd9ebd30"
      },
      "execution_count": 23,
      "outputs": [
        {
          "output_type": "stream",
          "name": "stdout",
          "text": [
            "Resume matches by: 58.698462452163966%\n"
          ]
        }
      ]
    }
  ]
}